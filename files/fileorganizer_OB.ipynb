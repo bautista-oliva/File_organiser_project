{
 "cells": [
  {
   "cell_type": "markdown",
   "id": "14997b81",
   "metadata": {},
   "source": [
    "# Start2impact - Oliva Bautista's Python & NumPy project\n",
    "\n",
    "## Step 1\n",
    "\n",
    "Start by creating, in a notebook, a Python script that will alphabetize the files in the \"files\" folder and, depending on their type (audio, document, image), move them to the appropriate subfolder. If the subfolder does not exist, your script will have to create it automatically. \n",
    "Besides printing the information as you move them, keep track of the files by creating a recap.csv document with the same information. "
   ]
  },
  {
   "cell_type": "code",
   "execution_count": 1,
   "id": "f3943849",
   "metadata": {},
   "outputs": [],
   "source": [
    "# Importing libraries\n",
    "import numpy as np\n",
    "from PIL import Image\n",
    "import os\n",
    "import shutil\n",
    "import csv\n",
    "import PIL\n",
    "import tabulate as tb"
   ]
  },
  {
   "cell_type": "code",
   "execution_count": 2,
   "id": "264d3aac",
   "metadata": {},
   "outputs": [],
   "source": [
    "# Setting the directory to the \"files\" folder in order to use relative path from now on\n",
    "#os. getcwd() #checking the current working directory\n",
    "os.chdir(\"C:\\\\Users\\\\bauol\\\\Desktop\\\\Bautista\\\\Start2impact\\\\Data Science\\\\Python & NumPy\\\\FileOrganizer\\\\FileOrganizer\\\\files\")"
   ]
  },
  {
   "cell_type": "code",
   "execution_count": 3,
   "id": "71d22111",
   "metadata": {},
   "outputs": [
    {
     "name": "stdout",
     "output_type": "stream",
     "text": [
      "Directory  documents  already exists\n",
      "Directory  images  already exists\n",
      "Directory  audios  already exists\n"
     ]
    }
   ],
   "source": [
    "# Checking/Creating directories if doesn't exists.\n",
    "folders=[\"documents\",\"images\",\"audios\"]\n",
    "for el in folders:\n",
    "    try:\n",
    "        os.makedirs(el)    \n",
    "        print(\"Directory \" , el ,  \" has been created \")\n",
    "    except FileExistsError:\n",
    "        print(\"Directory \" , el ,  \" already exists\") \n"
   ]
  },
  {
   "cell_type": "code",
   "execution_count": 4,
   "id": "5423d5f5",
   "metadata": {},
   "outputs": [],
   "source": [
    "#initializing the recap file. Each time this block is runned the recap file will be overwritted.\n",
    "colonne=[\"name\",\"type\",\"size (B)\"]\n",
    "recap = open(\"recap.csv\", \"w\",newline='')\n",
    "writer=csv.writer(recap)\n",
    "writer.writerow(colonne)\n",
    "recap.close()"
   ]
  },
  {
   "cell_type": "markdown",
   "id": "e0c57800",
   "metadata": {},
   "source": [
    "The following blocks of code can be runned multiple times with no problem, while by running the previous block the recap file is reinitilized."
   ]
  },
  {
   "cell_type": "code",
   "execution_count": 5,
   "id": "164e5d61",
   "metadata": {
    "scrolled": true
   },
   "outputs": [
    {
     "name": "stdout",
     "output_type": "stream",
     "text": [
      "This file type is not supported yet\n",
      "aaaaa.txt            type: doc            size:0B                   \n",
      "This file type is not supported yet\n",
      "bw.png               type: image          size:94926B                   \n",
      "ciao.txt             type: doc            size:12B                   \n",
      "daffodil.jpg         type: image          size:24657B                   \n",
      "eclipse.png          type: image          size:64243B                   \n",
      "pippo.odt            type: doc            size:8299B                   \n",
      "This file type is not supported yet\n"
     ]
    }
   ],
   "source": [
    "# Checking and moving file in folders. \n",
    "list=[f for f in os.listdir('.') if os.path.isfile(f)] #creating a list with ONLY files in the folder on wich run a for cicle\n",
    "list=(sorted(list)) #sorting in an alphabetical order\n",
    "recap = open(\"recap.csv\", \"a\",newline='') #opening the recap file in order to modify it\n",
    "writer=csv.writer(recap) #creating a writer object that will allow us to write on the file\n",
    "\n",
    "# In the next cicle: for each file 1) check what type is it 2) print the data 3)print the data on \"recap\" \n",
    "# 4) move to the correct folder\n",
    "for el in list:\n",
    "    if el.endswith(\"txt\") or el.endswith(\"odt\"):\n",
    "        print(str(el).ljust(20) ,\"type: doc\".ljust(20), \"size:\"+ str(os.path.getsize(el))+\"B\".ljust(20))\n",
    "        writer.writerow([(str(el)).split(\".\")[0] ,\"document\", str(os.path.getsize(el))])\n",
    "        shutil.move( el, \".\\documents\\\\\" +el)\n",
    "\n",
    "    elif el.endswith(\"png\") or el.endswith(\"jpg\") or el.endswith(\"jpeg\"):\n",
    "        print(str(el).ljust(20) ,\"type: image\".ljust(20), \"size:\"+ str(os.path.getsize(el))+\"B\".ljust(20))\n",
    "        writer.writerow([(str(el)).split(\".\")[0] ,\"image\",  str(os.path.getsize(el))])\n",
    "        shutil.move( el, \".\\images\\\\\" +el)\n",
    "        \n",
    "    elif el.endswith(\"mp3\"):\n",
    "        print(str(el).ljust(20) ,\"type: audio\".ljust(20), \"size:\"+ str(os.path.getsize(el))+\"B\".ljust(20))\n",
    "        writer.writerow([(str(el)).split(\".\")[0] ,\"audio\",  str(os.path.getsize(el))])\n",
    "        shutil.move( el, \".\\\\audios\\\\\" +el)\n",
    "        \n",
    "    else:\n",
    "        print(\"This file type is not supported yet\")\n",
    "        \n",
    "recap.close()"
   ]
  },
  {
   "cell_type": "markdown",
   "id": "ab4bb73d",
   "metadata": {},
   "source": [
    "## Step 3\n",
    "Add a script that, by iterating on every file in the \"images\" folder, creates a table where each row contain information about a file.\n",
    "Data to be presented: Name of the image, dimensions in pixels and the average color for each level of color (only gray if the image in black&white, the average Red, Green and Blue for RGB's imagen and RGB plus Alpha for RGBA images)"
   ]
  },
  {
   "cell_type": "code",
   "execution_count": 62,
   "id": "e228288b",
   "metadata": {},
   "outputs": [],
   "source": [
    "# Pointing the directory to the folder where we will be workin on\n",
    "os.chdir(\".\\\\images\")"
   ]
  },
  {
   "cell_type": "code",
   "execution_count": 63,
   "id": "7128b241",
   "metadata": {},
   "outputs": [
    {
     "name": "stdout",
     "output_type": "stream",
     "text": [
      "╒══════════╤══════════╤═════════╤═════════════╤════════╤════════╤═══════╤═════════╕\n",
      "│ name     │   height │   width │   grayscale │      R │      G │     B │   ALPHA │\n",
      "╞══════════╪══════════╪═════════╪═════════════╪════════╪════════╪═══════╪═════════╡\n",
      "│ bw       │      512 │     512 │       21.48 │   0.00 │   0.00 │  0.00 │    0.00 │\n",
      "├──────────┼──────────┼─────────┼─────────────┼────────┼────────┼───────┼─────────┤\n",
      "│ daffodil │      500 │     335 │        0.00 │ 109.25 │  85.56 │  4.97 │    0.00 │\n",
      "├──────────┼──────────┼─────────┼─────────────┼────────┼────────┼───────┼─────────┤\n",
      "│ eclipse  │      256 │     256 │        0.00 │ 109.05 │ 109.52 │ 39.85 │  133.59 │\n",
      "├──────────┼──────────┼─────────┼─────────────┼────────┼────────┼───────┼─────────┤\n",
      "│ trump    │      183 │     275 │        0.00 │  97.01 │  98.99 │ 90.92 │    0.00 │\n",
      "╘══════════╧══════════╧═════════╧═════════════╧════════╧════════╧═══════╧═════════╛\n"
     ]
    }
   ],
   "source": [
    "# Initialising an empty list in which i will append lists that will represent rows in the final table.\n",
    "# The funtion tabulate from the omonimus module receive as an input a list of lists.\n",
    "table=[]\n",
    "# In the cicle: for each image \n",
    "# 1) extrapolate the name e the 2 dimensions (height and width) and putting into a list that represents the row for the recap file\n",
    "# 2) check color type of the image\n",
    "# 3) base on how many colours, calculating the averages and filling with 0s the empty data\n",
    "# 4) appending the list with the image data tu the list cointaining the info of all the images\n",
    "for im in os.listdir():\n",
    "    row=[]\n",
    "    row.append(im.split(\".\")[0])\n",
    "    pic=Image.open(im)\n",
    "    #mpl.imshow(pic)\n",
    "    pic_array=np.array(pic)\n",
    "    row.append(np.shape(pic)[0])\n",
    "    row.append(np.shape(pic)[1])\n",
    "    if len(np.shape(pic))==2:\n",
    "        grayscale=(np.mean(pic))\n",
    "        data=[grayscale,0.00,0.00,0.00,0.00]\n",
    "        [row.append(dato) for dato in data]\n",
    "    elif np.shape(pic)[2]==3:\n",
    "        R=(np.mean(np.array(pic),axis=(0,1))[0])\n",
    "        G=(np.mean(np.array(pic),axis=(0,1))[1])\n",
    "        B=(np.mean(np.array(pic),axis=(0,1))[2])\n",
    "        A=0.00\n",
    "        data=[0.00,R,G,B,A]\n",
    "        [row.append(dato) for dato in data]\n",
    "    elif np.shape(pic)[2]==4:\n",
    "        R,G,B,A = np.mean(np.array(pic),axis=(0,1))\n",
    "        data=[0.00,R,G,B,A]\n",
    "        [row.append(dato) for dato in data]\n",
    "    else:\n",
    "        pass\n",
    "    table.append(row)\n",
    "\n",
    "# Printing the table   \n",
    "print(tb.tabulate(table, \n",
    "                  headers=[\"name\",\"height\",\"width\",\"grayscale\",\"R\",\"G\",\"B\",\"ALPHA\"],\n",
    "                 tablefmt=\"fancy_grid\",\n",
    "                 floatfmt=\".2f\"))\n",
    "    "
   ]
  }
 ],
 "metadata": {
  "kernelspec": {
   "display_name": "Python 3 (ipykernel)",
   "language": "python",
   "name": "python3"
  },
  "language_info": {
   "codemirror_mode": {
    "name": "ipython",
    "version": 3
   },
   "file_extension": ".py",
   "mimetype": "text/x-python",
   "name": "python",
   "nbconvert_exporter": "python",
   "pygments_lexer": "ipython3",
   "version": "3.9.7"
  }
 },
 "nbformat": 4,
 "nbformat_minor": 5
}
